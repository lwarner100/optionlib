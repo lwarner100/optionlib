{
 "cells": [
  {
   "cell_type": "code",
   "execution_count": 608,
   "metadata": {},
   "outputs": [
    {
     "name": "stdout",
     "output_type": "stream",
     "text": [
      "The autoreload extension is already loaded. To reload it, use:\n",
      "  %reload_ext autoreload\n"
     ]
    }
   ],
   "source": [
    "%load_ext autoreload\n",
    "%autoreload 2\n",
    "import itertools\n",
    "import datetime\n",
    "import os\n",
    "\n",
    "import pandas as pd\n",
    "import numpy as np\n",
    "import scipy\n",
    "import scipy.optimize\n",
    "import matplotlib.pyplot as plt\n",
    "import ipywidgets as widgets\n",
    "\n",
    "import wallstreet as ws\n",
    "import optionlib as opt"
   ]
  },
  {
   "cell_type": "markdown",
   "metadata": {},
   "source": [
    "### Wallstreet Module Testing"
   ]
  },
  {
   "cell_type": "markdown",
   "metadata": {},
   "source": [
    "### Vol testing"
   ]
  },
  {
   "cell_type": "code",
   "execution_count": 202,
   "metadata": {},
   "outputs": [],
   "source": [
    "import statsmodels.api as sm"
   ]
  },
  {
   "cell_type": "code",
   "execution_count": 203,
   "metadata": {},
   "outputs": [],
   "source": [
    "spy = ws.Stock('^GSPC')\n",
    "df = spy.historical(1800)\n",
    "vix = ws.Stock('^VIX')\n",
    "vix_df = vix.historical(1800)"
   ]
  },
  {
   "cell_type": "code",
   "execution_count": null,
   "metadata": {},
   "outputs": [],
   "source": [
    "vix_df = (vix_df\n",
    "        .assign(dt=pd.to_datetime(vix_df.Date))\n",
    "        .set_index('dt')\n",
    "        )\n",
    "\n",
    "spy_df = (df\n",
    "        .assign(vol=df.Close.pct_change().add(1).apply(np.log).rolling(10).std()*np.sqrt(252),\n",
    "                dt=pd.to_datetime(df.Date),\n",
    "                lag1=df.Close.shift(1),\n",
    "                const=1,\n",
    "                ret=df.Close.pct_change())\n",
    "        .dropna()\n",
    "        .set_index('dt')\n",
    "        )"
   ]
  },
  {
   "cell_type": "code",
   "execution_count": null,
   "metadata": {},
   "outputs": [],
   "source": [
    "fig, axes = plt.subplots(2,1,sharex=True,figsize=(12,8))\n",
    "axes[0].plot(spy_df.index,spy_df.Close)\n",
    "axes[1].plot(spy_df.index,spy_df.vol,color='orange')\n",
    "axes[1].twinx().plot(vix_df.index,vix_df.Close,color='black',alpha=0.5)"
   ]
  },
  {
   "cell_type": "code",
   "execution_count": null,
   "metadata": {},
   "outputs": [],
   "source": [
    "model = sm.OLS(spy_df.Close,spy_df[['const','lag1','vol']]).fit()\n",
    "model.summary()"
   ]
  },
  {
   "cell_type": "code",
   "execution_count": null,
   "metadata": {},
   "outputs": [],
   "source": [
    "spy_df.vol.mean()"
   ]
  },
  {
   "cell_type": "markdown",
   "metadata": {},
   "source": [
    "### Bond Testing"
   ]
  },
  {
   "cell_type": "code",
   "execution_count": null,
   "metadata": {},
   "outputs": [],
   "source": [
    "def bond_val(face,coupon,yld,mat,freq=1):\n",
    "    periods = mat*freq\n",
    "    pv_face = face/(1+yld)**mat\n",
    "    coupon = coupon*face\n",
    "    pv_coup = sum((coupon/freq)/(1+(yld/freq))**i for i in range(1,periods+1))\n",
    "    return pv_coup + pv_face\n",
    "    "
   ]
  },
  {
   "cell_type": "code",
   "execution_count": null,
   "metadata": {},
   "outputs": [],
   "source": [
    "bond_val(100,0.09,0.08,20,2)"
   ]
  },
  {
   "cell_type": "code",
   "execution_count": null,
   "metadata": {},
   "outputs": [],
   "source": [
    "def bond_value(face,coupon,yield_,maturity,freq):\n",
    "    if isinstance(maturity,str):\n",
    "        maturity = datetime.datetime.strptime(maturity,'%m-%d-%Y')\n",
    "        now = datetime.datetime.today()\n",
    "        dt = maturity - now\n",
    "        periods = np.ceil(dt.days/(365/freq))\n",
    "    else:\n",
    "        periods = np.ceil(maturity*freq)\n",
    "    coupon_ = face*(coupon)\n",
    "    discounted_coupon = coupon_*(1 - (1+yield_)**-periods)/yield_\n",
    "    discounted_face = face/(1+yield_)**periods\n",
    "    return discounted_coupon + discounted_face"
   ]
  },
  {
   "cell_type": "code",
   "execution_count": null,
   "metadata": {},
   "outputs": [],
   "source": [
    "bond_value(100,0.09,0.08,20,2)"
   ]
  },
  {
   "cell_type": "code",
   "execution_count": null,
   "metadata": {},
   "outputs": [],
   "source": [
    "yields = np.linspace(-0.02,0.05,1000)"
   ]
  },
  {
   "cell_type": "code",
   "execution_count": null,
   "metadata": {},
   "outputs": [],
   "source": [
    "plt.plot(yields,bond_value(100,0.05,yields,'01-01-2032',2)\n",
    ")"
   ]
  },
  {
   "cell_type": "markdown",
   "metadata": {},
   "source": [
    "### Vol Surface"
   ]
  },
  {
   "cell_type": "code",
   "execution_count": 168,
   "metadata": {},
   "outputs": [],
   "source": [
    "spy_surf = opt.VolSurface('SPY',moneyness=True)"
   ]
  },
  {
   "cell_type": "markdown",
   "metadata": {},
   "source": [
    "### Option Testing"
   ]
  },
  {
   "cell_type": "code",
   "execution_count": 39,
   "metadata": {},
   "outputs": [
    {
     "data": {
      "text/plain": [
       "+1 BSOption(s=110, k=100, t=1, sigma=0.3, r=0.04, type=C)"
      ]
     },
     "execution_count": 39,
     "metadata": {},
     "output_type": "execute_result"
    }
   ],
   "source": [
    "bs_call = opt.BSOption(110,100,1,0.3,0.04,'call')\n",
    "bs_call"
   ]
  },
  {
   "cell_type": "code",
   "execution_count": 40,
   "metadata": {},
   "outputs": [
    {
     "data": {
      "text/html": [
       "<div>\n",
       "<style scoped>\n",
       "    .dataframe tbody tr th:only-of-type {\n",
       "        vertical-align: middle;\n",
       "    }\n",
       "\n",
       "    .dataframe tbody tr th {\n",
       "        vertical-align: top;\n",
       "    }\n",
       "\n",
       "    .dataframe thead tr th {\n",
       "        text-align: left;\n",
       "    }\n",
       "</style>\n",
       "<table border=\"1\" class=\"dataframe\">\n",
       "  <thead>\n",
       "    <tr>\n",
       "      <th></th>\n",
       "      <th colspan=\"2\" halign=\"left\">parameters</th>\n",
       "      <th colspan=\"2\" halign=\"left\">characteristics / greeks</th>\n",
       "    </tr>\n",
       "    <tr>\n",
       "      <th></th>\n",
       "      <th></th>\n",
       "      <th></th>\n",
       "      <th></th>\n",
       "      <th></th>\n",
       "    </tr>\n",
       "  </thead>\n",
       "  <tbody>\n",
       "    <tr>\n",
       "      <th>0</th>\n",
       "      <td>S</td>\n",
       "      <td>110</td>\n",
       "      <td>price</td>\n",
       "      <td>20.417611</td>\n",
       "    </tr>\n",
       "    <tr>\n",
       "      <th>1</th>\n",
       "      <td>K</td>\n",
       "      <td>100</td>\n",
       "      <td>delta</td>\n",
       "      <td>0.725226</td>\n",
       "    </tr>\n",
       "    <tr>\n",
       "      <th>2</th>\n",
       "      <td>IV</td>\n",
       "      <td>0.3</td>\n",
       "      <td>gamma</td>\n",
       "      <td>0.010107</td>\n",
       "    </tr>\n",
       "    <tr>\n",
       "      <th>3</th>\n",
       "      <td>t</td>\n",
       "      <td>1</td>\n",
       "      <td>vega</td>\n",
       "      <td>0.366891</td>\n",
       "    </tr>\n",
       "    <tr>\n",
       "      <th>4</th>\n",
       "      <td>r</td>\n",
       "      <td>0.04</td>\n",
       "      <td>theta</td>\n",
       "      <td>-0.021578</td>\n",
       "    </tr>\n",
       "    <tr>\n",
       "      <th>5</th>\n",
       "      <td></td>\n",
       "      <td></td>\n",
       "      <td>rho</td>\n",
       "      <td>0.593110</td>\n",
       "    </tr>\n",
       "  </tbody>\n",
       "</table>\n",
       "</div>"
      ],
      "text/plain": [
       "  parameters       characteristics / greeks           \n",
       "                                                      \n",
       "0          S   110                    price  20.417611\n",
       "1          K   100                    delta   0.725226\n",
       "2         IV   0.3                    gamma   0.010107\n",
       "3          t     1                     vega   0.366891\n",
       "4          r  0.04                    theta  -0.021578\n",
       "5                                       rho   0.593110"
      ]
     },
     "execution_count": 40,
     "metadata": {},
     "output_type": "execute_result"
    }
   ],
   "source": [
    "bs_call.summary()"
   ]
  },
  {
   "cell_type": "code",
   "execution_count": 41,
   "metadata": {},
   "outputs": [],
   "source": [
    "c = opt.MCOption(110, 100,1,0.3,0.04,N=1,M=1e6,type='C',control='all')"
   ]
  },
  {
   "cell_type": "code",
   "execution_count": 45,
   "metadata": {},
   "outputs": [],
   "source": [
    "vals = [c.value() for i in range(100)]"
   ]
  },
  {
   "cell_type": "code",
   "execution_count": 46,
   "metadata": {},
   "outputs": [
    {
     "data": {
      "image/png": "[encoded data removed]",
      "text/plain": [
       "<Figure size 640x480 with 1 Axes>"
      ]
     },
     "metadata": {},
     "output_type": "display_data"
    }
   ],
   "source": [
    "plt.hist(vals,bins=10)\n",
    "# plt.axvline(bs_call.value())\n",
    "plt.axvline(np.mean(vals))\n",
    "plt.title('Mean: {}'.format(np.mean(vals)))\n",
    "plt.show()"
   ]
  },
  {
   "cell_type": "code",
   "execution_count": 29,
   "metadata": {},
   "outputs": [],
   "source": [
    "digi = opt.DigitalOption(100,80,1,0.3,0.04,type='C')\n",
    "ki_put = opt.BarrierOption(100,100,1,0.3,0.04,type='P',barrier=80,barrier_type='KI',M=5e5,N=1,control='all',method='mc')"
   ]
  },
  {
   "cell_type": "code",
   "execution_count": 42,
   "metadata": {},
   "outputs": [
    {
     "data": {
      "text/plain": [
       "7.204843965745043"
      ]
     },
     "execution_count": 42,
     "metadata": {},
     "output_type": "execute_result"
    }
   ],
   "source": [
    "ki_put.value()"
   ]
  },
  {
   "cell_type": "code",
   "execution_count": 23,
   "metadata": {},
   "outputs": [
    {
     "data": {
      "text/plain": [
       "7.221975263937238"
      ]
     },
     "execution_count": 23,
     "metadata": {},
     "output_type": "execute_result"
    }
   ],
   "source": [
    "ki_put.value()"
   ]
  },
  {
   "cell_type": "code",
   "execution_count": 78,
   "metadata": {},
   "outputs": [
    {
     "data": {
      "text/plain": [
       "OptionPortfolio(\n",
       "+1 BarrierOption(s=100, k=100, t=1, sigma=0.3, r=0.04, barrier=80, barrier_type=KI, type=P, method=mc)\n",
       "-10 DigitalOption(s=100, k=80, t=1, sigma=0.3, r=0.04, type=C)\n",
       ")"
      ]
     },
     "execution_count": 78,
     "metadata": {},
     "output_type": "execute_result"
    }
   ],
   "source": [
    "phoenix = (ki_put - digi*10)\n",
    "phoenix"
   ]
  },
  {
   "cell_type": "code",
   "execution_count": 102,
   "metadata": {},
   "outputs": [
    {
     "data": {
      "text/plain": [
       "13.716350342434069"
      ]
     },
     "execution_count": 102,
     "metadata": {},
     "output_type": "execute_result"
    }
   ],
   "source": [
    "call1 = opt.BSOption(100, 100,1,0.3,0.04,type='c')\n",
    "call1.value()"
   ]
  },
  {
   "cell_type": "code",
   "execution_count": 90,
   "metadata": {},
   "outputs": [
    {
     "data": {
      "text/plain": [
       "4.860836502870799"
      ]
     },
     "execution_count": 90,
     "metadata": {},
     "output_type": "execute_result"
    }
   ],
   "source": [
    "call = opt.BinomialOption(100,100,'01-20-2023',0.3,0.04,type='c',n=500,style='E')\n",
    "call.value()"
   ]
  },
  {
   "cell_type": "code",
   "execution_count": 6,
   "metadata": {},
   "outputs": [],
   "source": [
    "call1 = opt.BSOption(110, 100,'01-20-2023',0.248,0.04,type='c')\n",
    "put1 = opt.BSOption(110, 90,'01-20-2023',0.248,0.04,type='p')\n",
    "p = call1 - put1"
   ]
  },
  {
   "cell_type": "code",
   "execution_count": 309,
   "metadata": {},
   "outputs": [],
   "source": [
    "hedge = opt.DeltaHedge()"
   ]
  },
  {
   "cell_type": "code",
   "execution_count": 310,
   "metadata": {},
   "outputs": [],
   "source": [
    "p = call1 + hedge"
   ]
  },
  {
   "cell_type": "markdown",
   "metadata": {},
   "source": [
    "### Monte-Carlo"
   ]
  },
  {
   "cell_type": "code",
   "execution_count": 14,
   "metadata": {},
   "outputs": [
    {
     "data": {
      "text/plain": [
       "[<matplotlib.lines.Line2D at 0x11c0b4210>]"
      ]
     },
     "execution_count": 14,
     "metadata": {},
     "output_type": "execute_result"
    },
    {
     "data": {
      "image/png": "[encoded data removed]",
      "text/plain": [
       "<Figure size 640x480 with 1 Axes>"
      ]
     },
     "metadata": {},
     "output_type": "display_data"
    }
   ],
   "source": [
    "# a function that models a wiener process with stochastic volatility\n",
    "def wiener_process(t, n, x0=0):\n",
    "    dt = t/n\n",
    "    return np.cumsum(np.sqrt(dt)*np.random.randn(n)) + x0\n",
    "\n",
    "plt.plot(wiener_process(1,1000,100))"
   ]
  },
  {
   "cell_type": "code",
   "execution_count": 24,
   "metadata": {},
   "outputs": [],
   "source": [
    "c = opt.BinomialOption(s=100,k=100,t=1,r=.05,sigma=.2,n=2000,type_='C',style='A',pos='l',qty=1)"
   ]
  },
  {
   "cell_type": "code",
   "execution_count": 109,
   "metadata": {},
   "outputs": [],
   "source": [
    "vs = opt.VolSurface('SPY',source='CBOE')"
   ]
  },
  {
   "cell_type": "code",
   "execution_count": 288,
   "metadata": {},
   "outputs": [],
   "source": [
    "a = np.array([1,2,3,4])"
   ]
  },
  {
   "cell_type": "code",
   "execution_count": 289,
   "metadata": {},
   "outputs": [
    {
     "data": {
      "text/plain": [
       "array([1, 2, 3, 4, 5, 3])"
      ]
     },
     "execution_count": 289,
     "metadata": {},
     "output_type": "execute_result"
    }
   ],
   "source": [
    "np.append(a, [5,3])"
   ]
  },
  {
   "cell_type": "code",
   "execution_count": 424,
   "metadata": {},
   "outputs": [],
   "source": [
    "digi = opt.DigitalOption(100,80,1,0.3,0.04,'P')\n",
    "call = opt.BSOption(100,80,1,0.3,0.04,'P')\n",
    "barrier = call + (20*digi)"
   ]
  },
  {
   "cell_type": "code",
   "execution_count": 425,
   "metadata": {},
   "outputs": [
    {
     "data": {
      "text/html": [
       "<div>\n",
       "<style scoped>\n",
       "    .dataframe tbody tr th:only-of-type {\n",
       "        vertical-align: middle;\n",
       "    }\n",
       "\n",
       "    .dataframe tbody tr th {\n",
       "        vertical-align: top;\n",
       "    }\n",
       "\n",
       "    .dataframe thead tr th {\n",
       "        text-align: left;\n",
       "    }\n",
       "</style>\n",
       "<table border=\"1\" class=\"dataframe\">\n",
       "  <thead>\n",
       "    <tr>\n",
       "      <th></th>\n",
       "      <th colspan=\"3\" halign=\"left\">parameters</th>\n",
       "      <th colspan=\"2\" halign=\"left\">characteristics / greeks</th>\n",
       "    </tr>\n",
       "    <tr>\n",
       "      <th></th>\n",
       "      <th></th>\n",
       "      <th>Leg 1 (+1P)</th>\n",
       "      <th>Leg 2 (+20P)</th>\n",
       "      <th></th>\n",
       "      <th></th>\n",
       "    </tr>\n",
       "  </thead>\n",
       "  <tbody>\n",
       "    <tr>\n",
       "      <th>0</th>\n",
       "      <td>value</td>\n",
       "      <td>2.749227</td>\n",
       "      <td>4.507016</td>\n",
       "      <td>total cost</td>\n",
       "      <td>7.256243</td>\n",
       "    </tr>\n",
       "    <tr>\n",
       "      <th>1</th>\n",
       "      <td>S</td>\n",
       "      <td>100.000000</td>\n",
       "      <td>100.000000</td>\n",
       "      <td>delta</td>\n",
       "      <td>-0.349482</td>\n",
       "    </tr>\n",
       "    <tr>\n",
       "      <th>2</th>\n",
       "      <td>K</td>\n",
       "      <td>80.000000</td>\n",
       "      <td>80.000000</td>\n",
       "      <td>gamma</td>\n",
       "      <td>0.014585</td>\n",
       "    </tr>\n",
       "    <tr>\n",
       "      <th>3</th>\n",
       "      <td>IV</td>\n",
       "      <td>0.300000</td>\n",
       "      <td>0.300000</td>\n",
       "      <td>vega</td>\n",
       "      <td>0.437554</td>\n",
       "    </tr>\n",
       "    <tr>\n",
       "      <th>4</th>\n",
       "      <td>t</td>\n",
       "      <td>1.000000</td>\n",
       "      <td>1.000000</td>\n",
       "      <td>theta</td>\n",
       "      <td>-0.013360</td>\n",
       "    </tr>\n",
       "    <tr>\n",
       "      <th>5</th>\n",
       "      <td>r</td>\n",
       "      <td>0.040000</td>\n",
       "      <td>0.040000</td>\n",
       "      <td>rho</td>\n",
       "      <td>-0.421715</td>\n",
       "    </tr>\n",
       "  </tbody>\n",
       "</table>\n",
       "</div>"
      ],
      "text/plain": [
       "  parameters                          characteristics / greeks          \n",
       "             Leg 1 (+1P) Leg 2 (+20P)                                   \n",
       "0      value    2.749227     4.507016               total cost  7.256243\n",
       "1          S  100.000000   100.000000                    delta -0.349482\n",
       "2          K   80.000000    80.000000                    gamma  0.014585\n",
       "3         IV    0.300000     0.300000                     vega  0.437554\n",
       "4          t    1.000000     1.000000                    theta -0.013360\n",
       "5          r    0.040000     0.040000                      rho -0.421715"
      ]
     },
     "execution_count": 425,
     "metadata": {},
     "output_type": "execute_result"
    }
   ],
   "source": [
    "barrier.summary()"
   ]
  },
  {
   "cell_type": "code",
   "execution_count": 531,
   "metadata": {},
   "outputs": [],
   "source": [
    "class BarrierOption(opt.OptionPortfolio):\n",
    "\n",
    "    def __init__(self, s, k, t, sigma, r, type, barrier, barrier_type='KI'):\n",
    "        spread = abs(barrier - k)\n",
    "        coeff = 1 if barrier_type == 'KI' else -1\n",
    "        self.components = [\n",
    "            opt.BSOption(s, barrier, t, sigma, r, type, qty=1),\n",
    "            opt.DigitalOption(s, barrier, t, sigma, r, type)*(spread*coeff)\n",
    "            ]\n",
    "        if barrier_type == 'KO':\n",
    "            self.components[0] = opt.BSOption(s, k, t, sigma, r, type, qty=1)\n",
    "            self.components.append(opt.BSOption(s, barrier, t, sigma, r, type, qty=-1))\n",
    "        super().__init__(*self.components)\n",
    "        self.ks.append(k)"
   ]
  },
  {
   "cell_type": "code",
   "execution_count": 5,
   "metadata": {},
   "outputs": [
    {
     "data": {
      "image/png": "[encoded data removed]",
      "text/plain": [
       "<Figure size 432x288 with 1 Axes>"
      ]
     },
     "metadata": {
      "needs_background": "light"
     },
     "output_type": "display_data"
    }
   ],
   "source": [
    "bb = opt.BinomialBarrierOption(\n",
    "    s=100,\n",
    "    k=100,\n",
    "    t=1,\n",
    "    sigma=0.3,\n",
    "    r=0.04,\n",
    "    type='P',\n",
    "    barrier=80,\n",
    "    barrier_type='KI',\n",
    "    n=500\n",
    ")\n",
    "bb.summary()"
   ]
  },
  {
   "cell_type": "code",
   "execution_count": 549,
   "metadata": {},
   "outputs": [
    {
     "data": {
      "text/plain": [
       "9.231650098473205"
      ]
     },
     "execution_count": 549,
     "metadata": {},
     "output_type": "execute_result"
    }
   ],
   "source": [
    "bb.value()"
   ]
  },
  {
   "cell_type": "code",
   "execution_count": 532,
   "metadata": {},
   "outputs": [
    {
     "data": {
      "text/html": [
       "<div>\n",
       "<style scoped>\n",
       "    .dataframe tbody tr th:only-of-type {\n",
       "        vertical-align: middle;\n",
       "    }\n",
       "\n",
       "    .dataframe tbody tr th {\n",
       "        vertical-align: top;\n",
       "    }\n",
       "\n",
       "    .dataframe thead tr th {\n",
       "        text-align: left;\n",
       "    }\n",
       "</style>\n",
       "<table border=\"1\" class=\"dataframe\">\n",
       "  <thead>\n",
       "    <tr>\n",
       "      <th></th>\n",
       "      <th colspan=\"3\" halign=\"left\">parameters</th>\n",
       "      <th colspan=\"2\" halign=\"left\">characteristics / greeks</th>\n",
       "    </tr>\n",
       "    <tr>\n",
       "      <th></th>\n",
       "      <th></th>\n",
       "      <th>Leg 1 (+1P)</th>\n",
       "      <th>Leg 2 (+20.0P)</th>\n",
       "      <th></th>\n",
       "      <th></th>\n",
       "    </tr>\n",
       "  </thead>\n",
       "  <tbody>\n",
       "    <tr>\n",
       "      <th>0</th>\n",
       "      <td>value</td>\n",
       "      <td>2.749227</td>\n",
       "      <td>4.507016</td>\n",
       "      <td>total cost</td>\n",
       "      <td>7.256243</td>\n",
       "    </tr>\n",
       "    <tr>\n",
       "      <th>1</th>\n",
       "      <td>S</td>\n",
       "      <td>100.000000</td>\n",
       "      <td>100.000000</td>\n",
       "      <td>delta</td>\n",
       "      <td>-0.349482</td>\n",
       "    </tr>\n",
       "    <tr>\n",
       "      <th>2</th>\n",
       "      <td>K</td>\n",
       "      <td>80.000000</td>\n",
       "      <td>80.000000</td>\n",
       "      <td>gamma</td>\n",
       "      <td>0.014585</td>\n",
       "    </tr>\n",
       "    <tr>\n",
       "      <th>3</th>\n",
       "      <td>IV</td>\n",
       "      <td>0.300000</td>\n",
       "      <td>0.300000</td>\n",
       "      <td>vega</td>\n",
       "      <td>0.437554</td>\n",
       "    </tr>\n",
       "    <tr>\n",
       "      <th>4</th>\n",
       "      <td>t</td>\n",
       "      <td>1.000000</td>\n",
       "      <td>1.000000</td>\n",
       "      <td>theta</td>\n",
       "      <td>-0.013360</td>\n",
       "    </tr>\n",
       "    <tr>\n",
       "      <th>5</th>\n",
       "      <td>r</td>\n",
       "      <td>0.040000</td>\n",
       "      <td>0.040000</td>\n",
       "      <td>rho</td>\n",
       "      <td>-0.421715</td>\n",
       "    </tr>\n",
       "  </tbody>\n",
       "</table>\n",
       "</div>"
      ],
      "text/plain": [
       "  parameters                            characteristics / greeks          \n",
       "             Leg 1 (+1P) Leg 2 (+20.0P)                                   \n",
       "0      value    2.749227       4.507016               total cost  7.256243\n",
       "1          S  100.000000     100.000000                    delta -0.349482\n",
       "2          K   80.000000      80.000000                    gamma  0.014585\n",
       "3         IV    0.300000       0.300000                     vega  0.437554\n",
       "4          t    1.000000       1.000000                    theta -0.013360\n",
       "5          r    0.040000       0.040000                      rho -0.421715"
      ]
     },
     "execution_count": 532,
     "metadata": {},
     "output_type": "execute_result"
    }
   ],
   "source": [
    "barrier = BarrierOption(100,100.,1,0.3,0.04,'P',80,'KI')\n",
    "barrier.summary()"
   ]
  },
  {
   "cell_type": "code",
   "execution_count": 542,
   "metadata": {},
   "outputs": [
    {
     "data": {
      "application/vnd.jupyter.widget-view+json": {
       "model_id": "91c59d05cf6442e490f750ae987f60ad",
       "version_major": 2,
       "version_minor": 0
      },
      "text/plain": [
       "interactive(children=(FloatSlider(value=2.0, description='t', max=2.0, min=0.001, step=0.01), Output(layout=La…"
      ]
     },
     "metadata": {},
     "output_type": "display_data"
    }
   ],
   "source": [
    "barrier.plot('theta',interactive=True)"
   ]
  },
  {
   "cell_type": "code",
   "execution_count": 533,
   "metadata": {},
   "outputs": [],
   "source": [
    "b = opt.BarrierOption(100,100,0.1,0.3,0.04,'P',1,'mc',80,'KI',N=1,M=3e5,control='antithetic')"
   ]
  },
  {
   "cell_type": "code",
   "execution_count": 534,
   "metadata": {},
   "outputs": [
    {
     "data": {
      "text/plain": [
       "0.21228379380087334"
      ]
     },
     "execution_count": 534,
     "metadata": {},
     "output_type": "execute_result"
    }
   ],
   "source": [
    "b.value()"
   ]
  },
  {
   "cell_type": "code",
   "execution_count": 466,
   "metadata": {},
   "outputs": [
    {
     "data": {
      "image/png": "[encoded data removed]",
      "text/plain": [
       "<Figure size 432x288 with 1 Axes>"
      ]
     },
     "metadata": {
      "needs_background": "light"
     },
     "output_type": "display_data"
    }
   ],
   "source": [
    "b.plot('value')"
   ]
  },
  {
   "cell_type": "code",
   "execution_count": null,
   "metadata": {},
   "outputs": [],
   "source": []
  },
  {
   "cell_type": "code",
   "execution_count": 412,
   "metadata": {},
   "outputs": [],
   "source": [
    "mc = opt.MCOption(100,100,1,0.3,0.04,'C',N=252,M=1)\n",
    "mc.simulate()\n",
    "path = mc.paths\n"
   ]
  },
  {
   "cell_type": "code",
   "execution_count": 413,
   "metadata": {},
   "outputs": [],
   "source": [
    "T = np.linspace(1,0,253)\n",
    "put = opt.BSOption(100,100,1,0.3,0.04,'P')\n",
    "sigmas = np.random.normal(0.3,0.01,253)"
   ]
  },
  {
   "cell_type": "code",
   "execution_count": null,
   "metadata": {},
   "outputs": [],
   "source": []
  },
  {
   "cell_type": "code",
   "execution_count": 414,
   "metadata": {},
   "outputs": [
    {
     "data": {
      "text/plain": [
       "[<matplotlib.lines.Line2D at 0x268ad599dc8>]"
      ]
     },
     "execution_count": 414,
     "metadata": {},
     "output_type": "execute_result"
    },
    {
     "data": {
      "image/png": "[encoded data removed]",
      "text/plain": [
       "<Figure size 720x576 with 3 Axes>"
      ]
     },
     "metadata": {
      "needs_background": "light"
     },
     "output_type": "display_data"
    }
   ],
   "source": [
    "\n",
    "fig, ax = plt.subplots(2,1,figsize=(10,8),gridspec_kw={'height_ratios': [2, 1]})\n",
    "ax[0].plot(T,path)\n",
    "ax[0].twinx().plot(T,put.value(t=T,s=path,sigma=sigmas),color='orange')\n",
    "ax[1].plot(T,sigmas)"
   ]
  },
  {
   "cell_type": "code",
   "execution_count": 1056,
   "metadata": {},
   "outputs": [],
   "source": [
    "b1 = opt.BinomialOption(\n",
    "    s=100,\n",
    "    k=100,\n",
    "    t=0.03,\n",
    "    sigma=0.3,\n",
    "    r=0.04,\n",
    "    type='C',\n",
    "    n=100,\n",
    "    style='E'\n",
    ")\n",
    "\n",
    "b2 = opt.BSOption(\n",
    "    s=100,\n",
    "    k=100,\n",
    "    t=1,\n",
    "    sigma=0.3,\n",
    "    r=0.04,\n",
    "    type='C',\n",
    ")"
   ]
  },
  {
   "cell_type": "code",
   "execution_count": 1057,
   "metadata": {},
   "outputs": [
    {
     "name": "stdout",
     "output_type": "stream",
     "text": [
      "Wall time: 0 ns\n"
     ]
    },
    {
     "data": {
      "text/plain": [
       "2.1256668857078047"
      ]
     },
     "execution_count": 1057,
     "metadata": {},
     "output_type": "execute_result"
    }
   ],
   "source": [
    "%%time\n",
    "b1.value()"
   ]
  },
  {
   "cell_type": "code",
   "execution_count": 423,
   "metadata": {},
   "outputs": [],
   "source": [
    "u = 0.99\n",
    "d = 1/u\n",
    "n = 3"
   ]
  },
  {
   "cell_type": "code",
   "execution_count": 424,
   "metadata": {},
   "outputs": [],
   "source": [
    "def create_tree(u,d,s,n):\n",
    "    tree = np.zeros((n+1,n+1))\n",
    "    tree[0,0] = s\n",
    "    for i in range(1,n+1):\n",
    "        tree[i,0] = tree[i-1,0]*u\n",
    "        tree[i,1:] = tree[i-1,:-1]*d\n",
    "    return tree\n",
    "    \n",
    "def value_nodes(tree,pi,r_hat):\n",
    "    val_tree = np.zeros_like(tree)\n",
    "    val_tree[0,:] = np.maximum(tree[-1,:]-100,0)\n",
    "    val_tree[1,:-1] = (1/r_hat)*((pi*val_tree[0,1:])+(1-pi)*val_tree[0,:-1])\n",
    "    for i in range(2,vals.shape[0]):\n",
    "        val_tree[i,:-i] = (1/r_hat)*((pi*val_tree[i-1,1:-i+1])+(1-pi)*val_tree[i-1,:-i])\n",
    "\n",
    "    \n",
    "    return val_tree"
   ]
  },
  {
   "cell_type": "code",
   "execution_count": 392,
   "metadata": {},
   "outputs": [],
   "source": [
    "tree = create_tree(u,d,100,n)"
   ]
  },
  {
   "cell_type": "code",
   "execution_count": 393,
   "metadata": {},
   "outputs": [
    {
     "name": "stdout",
     "output_type": "stream",
     "text": [
      "2\n",
      "[[0.         0.         1.01010101 3.06101521]\n",
      " [0.         0.50005001 2.01540407 0.        ]\n",
      " [0.         0.         0.         0.        ]\n",
      " [0.         0.         0.         0.        ]]\n",
      "3\n",
      "[[0.         0.         1.01010101 3.06101521]\n",
      " [0.         0.50005001 2.01540407 0.        ]\n",
      " [0.24754951 1.24527429 0.         0.        ]\n",
      " [0.         0.         0.         0.        ]]\n"
     ]
    },
    {
     "data": {
      "text/plain": [
       "array([[0.        , 0.        , 1.01010101, 3.06101521],\n",
       "       [0.        , 0.50005001, 2.01540407, 0.        ],\n",
       "       [0.24754951, 1.24527429, 0.        , 0.        ],\n",
       "       [0.73902168, 0.        , 0.        , 0.        ]])"
      ]
     },
     "execution_count": 393,
     "metadata": {},
     "output_type": "execute_result"
    }
   ],
   "source": [
    "value_nodes(tree,0.5,1.01)"
   ]
  },
  {
   "cell_type": "code",
   "execution_count": 250,
   "metadata": {},
   "outputs": [],
   "source": [
    "r_hat = 1.005\n",
    "pi = 0.51"
   ]
  },
  {
   "cell_type": "code",
   "execution_count": 251,
   "metadata": {},
   "outputs": [],
   "source": []
  },
  {
   "cell_type": "code",
   "execution_count": 256,
   "metadata": {},
   "outputs": [
    {
     "name": "stdout",
     "output_type": "stream",
     "text": [
      "1\n",
      "[[0.         0.         1.01010101 3.06101521]\n",
      " [0.         0.51258857 2.04583806 0.        ]\n",
      " [0.         0.         0.         0.        ]\n",
      " [0.         0.         0.         0.        ]]\n",
      "2\n",
      "[[0.         0.         1.01010101 3.06101521]\n",
      " [0.         0.51258857 2.04583806 0.        ]\n",
      " [1.03818648 0.24991881 0.         0.        ]\n",
      " [0.         0.         0.         0.        ]]\n",
      "3\n",
      "[[0.         0.         1.01010101 3.06101521]\n",
      " [0.         0.51258857 2.04583806 0.        ]\n",
      " [1.03818648 0.24991881 0.         0.        ]\n",
      " [0.50618047 0.         0.         0.        ]]\n"
     ]
    }
   ],
   "source": [
    "vals = value_nodes(tree,0.5,1.01)\n",
    "\n",
    "\n",
    "    print(i)\n",
    "    print(vals)"
   ]
  },
  {
   "cell_type": "code",
   "execution_count": 201,
   "metadata": {},
   "outputs": [],
   "source": [
    "vals[2,:-2] = (1/r_hat)*((pi*vals[1,1:-1])+(1-pi)*vals[1,0:-2])"
   ]
  },
  {
   "cell_type": "code",
   "execution_count": 75,
   "metadata": {},
   "outputs": [],
   "source": [
    "vals = np.maximum(0, tree[-1]-100)"
   ]
  },
  {
   "cell_type": "code",
   "execution_count": 83,
   "metadata": {},
   "outputs": [
    {
     "data": {
      "text/plain": [
       "5"
      ]
     },
     "execution_count": 83,
     "metadata": {},
     "output_type": "execute_result"
    }
   ],
   "source": [
    "len(vals)"
   ]
  },
  {
   "cell_type": "code",
   "execution_count": 215,
   "metadata": {},
   "outputs": [
    {
     "data": {
      "text/plain": [
       "array([[0.        , 0.        , 0.49248706, 1.49243528],\n",
       "       [0.        , 0.        , 0.        , 0.        ],\n",
       "       [0.        , 0.        , 0.        , 0.        ]])"
      ]
     },
     "execution_count": 215,
     "metadata": {},
     "output_type": "execute_result"
    }
   ],
   "source": [
    "((pi*vals[1:]) + ((1-pi)*vals[:-1]))*(1/r_hat)"
   ]
  },
  {
   "cell_type": "code",
   "execution_count": null,
   "metadata": {},
   "outputs": [],
   "source": []
  }
 ],
 "metadata": {
  "kernelspec": {
   "display_name": "Python 3",
   "language": "python",
   "name": "python3"
  },
  "language_info": {
   "codemirror_mode": {
    "name": "ipython",
    "version": 3
   },
   "file_extension": ".py",
   "mimetype": "text/x-python",
   "name": "python",
   "nbconvert_exporter": "python",
   "pygments_lexer": "ipython3",
   "version": "3.7.7"
  },
  "orig_nbformat": 4,
  "vscode": {
   "interpreter": {
    "hash": "52634da84371cba311ea128a5ea7cdc41ff074b781779e754b270ff9f8153cee"
   }
  }
 },
 "nbformat": 4,
 "nbformat_minor": 2
}
